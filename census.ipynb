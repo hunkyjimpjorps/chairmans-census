{
 "cells": [
  {
   "cell_type": "markdown",
   "metadata": {},
   "source": [
    "## Chairman's Census\n",
    "\n",
    "- **FFXIV**: The Chairman, Excalibur\n",
    "- **Mastodon/Fediverse**: @jimpjorps@knzk.me\n",
    "- **Twitter**: @jimpjorps\n",
    "- **Discord**: jimpjorps#0001 \n",
    " "
   ]
  },
  {
   "cell_type": "code",
   "execution_count": null,
   "metadata": {},
   "outputs": [],
   "source": [
    "# Necessary packages\n",
    "\n",
    "%matplotlib inline\n",
    "%config InlineBackend.print_figure_kwargs={'facecolor' : \"w\"}\n",
    "\n",
    "import matplotlib.pyplot as plt\n",
    "import numpy as npt\n",
    "import requests\n",
    "from collections import Counter\n",
    "import pandas as pd\n",
    "from tqdm import tqdm"
   ]
  },
  {
   "cell_type": "code",
   "execution_count": null,
   "metadata": {},
   "outputs": [],
   "source": [
    "# Put your XIVAPI key here\n",
    "\n",
    "xivapi_key = \"api_key_goes_here\""
   ]
  },
  {
   "cell_type": "code",
   "execution_count": null,
   "metadata": {},
   "outputs": [],
   "source": [
    "# Look up the FC's ID number\n",
    "# If this step doesn't work because you have a common or hard-to-search-for FC name,\n",
    "# set fc_id directly\n",
    "\n",
    "url_base = \"https://xivapi.com\"\n",
    "fc_name = \"Please Calm Down\"\n",
    "server_name = \"Omega\"\n",
    "payload = {\n",
    "    \"key\": xivapi_key,\n",
    "    \"name\": fc_name,\n",
    "    \"server\": server_name\n",
    "}\n",
    "r = requests.post(url_base + \"/freecompany/search\", json=payload)\n",
    "fc_id = r.json()['Results'][0]['ID']\n",
    "fc_id"
   ]
  },
  {
   "cell_type": "code",
   "execution_count": null,
   "metadata": {},
   "outputs": [],
   "source": [
    "# Retrieve the character IDs of everyone in this FC\n",
    "# Show the first 10 IDs to check\n",
    "\n",
    "payload = {\n",
    "    \"key\": xivapi_key,\n",
    "    \"data\": \"FCM\",\n",
    "    \"columns\": \"FreeCompanyMembers.data.*.ID\"\n",
    "}\n",
    "r = requests.post(url_base + \"/freecompany/\" + fc_id, json=payload)\n",
    "members_data = r.json()['FreeCompanyMembers']['data']\n",
    "members_id = [i['ID'] for i in members_data]\n",
    "\n",
    "members_id[0:9]"
   ]
  },
  {
   "cell_type": "code",
   "execution_count": null,
   "metadata": {},
   "outputs": [],
   "source": [
    "# Define the lists of races, tribes and genders to convert the provided \n",
    "# indices into readable text, as well as to make using pandas easier\n",
    "\n",
    "census_list = []\n",
    "races = [\n",
    "    \"Unknown\",\n",
    "    \"Hyur\",\n",
    "    \"Elezen\",\n",
    "    \"Lalafell\",\n",
    "    \"Miqote\",\n",
    "    \"Roegadyn\",\n",
    "    \"Au Ra\"\n",
    "]\n",
    "tribes = [\n",
    "    \"Unknown\",\n",
    "    \"Midlander\",\n",
    "    \"Highlander\",\n",
    "    \"Wildwood\",\n",
    "    \"Duskwight\",\n",
    "    \"Plainsfolk\",\n",
    "    \"Dunesfolk\",\n",
    "    \"Seeker\",\n",
    "    \"Keeper\",\n",
    "    \"Sea Wolf\",\n",
    "    \"Hellsguard\",\n",
    "    \"Raen\",\n",
    "    \"Xaela\"\n",
    "]\n",
    "genders = [\n",
    "    \"Unknown\",\n",
    "    \"M\",\n",
    "    \"F\"\n",
    "]"
   ]
  },
  {
   "cell_type": "code",
   "execution_count": null,
   "metadata": {},
   "outputs": [],
   "source": [
    "# Request the race/tribe/gender indices for each character\n",
    "# Make a list of tuplets\n",
    "\n",
    "census_list = []\n",
    "\n",
    "payload = {\n",
    "    \"key\": xivapi_key,\n",
    "    \"columns\": \"Character.Race,Character.Tribe,Character.Gender\"\n",
    "}\n",
    "\n",
    "for id in tqdm(members_id):\n",
    "    r = requests.post(url_base + \"/character/\" + str(id), json=payload)\n",
    "    datum = [\n",
    "        races[int(r.json()['Character']['Race'] or 0)],\n",
    "        tribes[int(r.json()['Character']['Tribe'] or 0)],\n",
    "        genders[int(r.json()['Character']['Gender'] or 0)]\n",
    "    ]\n",
    "    census_list.append(datum)\n",
    "    \n",
    "census_list"
   ]
  },
  {
   "cell_type": "code",
   "execution_count": null,
   "metadata": {
    "scrolled": false
   },
   "outputs": [],
   "source": [
    "# Turn the list of tuples into a pandas DataFrame\n",
    "# Make a pivot table that summarizes by count\n",
    "\n",
    "df = pd.DataFrame(\n",
    "    census_list,\n",
    "    columns=[\"Race\", \"Tribe\", \"Gender\"]\n",
    ")\n",
    "pt = pd.pivot_table(\n",
    "    df, \n",
    "    index=['Race','Tribe'], \n",
    "    columns=['Gender'],\n",
    "    aggfunc=len,\n",
    "    fill_value=0,\n",
    ")\n",
    "ax = pt.plot.barh(\n",
    "    figsize=[12, 6],\n",
    "    stacked=True,\n",
    "    table=False,\n",
    "    width=0.75,\n",
    "    title=fc_name\n",
    ")\n",
    "ax.spines['top'].set_visible(False)\n",
    "ax.spines['right'].set_visible(False)\n",
    "ax.spines['bottom'].set_visible(False)\n",
    "for p in ax.patches:\n",
    "    ax.annotate(str(p.get_width()), (p.get_x() + p.get_width(), p.get_y()), xytext=(4, 6), textcoords='offset points')\n",
    "ax.set_facecolor('white')\n",
    "ax.patch.set_alpha(1)"
   ]
  },
  {
   "cell_type": "code",
   "execution_count": null,
   "metadata": {
    "scrolled": false
   },
   "outputs": [],
   "source": [
    "# Generate a pivot table showing the demographic breakdown with subtotals\n",
    "\n",
    "pt = pd.pivot_table(df, \n",
    "                    index=['Race','Tribe'], \n",
    "                    columns=['Gender'],\n",
    "                    aggfunc=len,\n",
    "                    fill_value=0,\n",
    "                    margins=True\n",
    "                   )\n",
    "pt"
   ]
  },
  {
   "cell_type": "code",
   "execution_count": null,
   "metadata": {},
   "outputs": [],
   "source": []
  }
 ],
 "metadata": {
  "file_extension": ".py",
  "kernelspec": {
   "display_name": "Python 3",
   "language": "python",
   "name": "python3"
  },
  "language_info": {
   "codemirror_mode": {
    "name": "ipython",
    "version": 3
   },
   "file_extension": ".py",
   "mimetype": "text/x-python",
   "name": "python",
   "nbconvert_exporter": "python",
   "pygments_lexer": "ipython3",
   "version": "3.7.1"
  },
  "mimetype": "text/x-python",
  "name": "python",
  "npconvert_exporter": "python",
  "pygments_lexer": "ipython3",
  "version": 3
 },
 "nbformat": 4,
 "nbformat_minor": 2
}
